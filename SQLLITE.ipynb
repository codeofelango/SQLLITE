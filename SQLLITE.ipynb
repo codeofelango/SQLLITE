{
 "cells": [
  {
   "cell_type": "code",
   "execution_count": 2,
   "id": "29e39974",
   "metadata": {},
   "outputs": [],
   "source": [
    "import sqlite3"
   ]
  },
  {
   "cell_type": "code",
   "execution_count": 7,
   "id": "4d73074e",
   "metadata": {},
   "outputs": [],
   "source": [
    "db = sqlite3.connect(\"ineuron.db\")"
   ]
  },
  {
   "cell_type": "code",
   "execution_count": 25,
   "id": "6c4eabeb",
   "metadata": {
    "scrolled": true
   },
   "outputs": [
    {
     "name": "stdout",
     "output_type": "stream",
     "text": [
      " Volume in drive C has no label.\n",
      " Volume Serial Number is 52C6-F392\n",
      "\n",
      " Directory of C:\\Users\\Admin\n",
      "\n",
      "02/22/2022  01:01 PM    <DIR>          .\n",
      "02/22/2022  01:01 PM    <DIR>          ..\n",
      "02/12/2022  08:20 AM    <DIR>          .astropy\n",
      "02/12/2022  08:21 AM    <DIR>          .conda\n",
      "12/10/2021  12:21 PM                25 .condarc\n",
      "12/10/2021  12:20 PM    <DIR>          .continuum\n",
      "02/22/2022  11:19 AM    <DIR>          .ipynb_checkpoints\n",
      "12/10/2021  01:06 PM    <DIR>          .ipython\n",
      "12/11/2021  07:11 PM    <DIR>          .jupyter\n",
      "01/22/2022  01:21 PM    <DIR>          .kivy\n",
      "02/12/2022  11:52 AM    <DIR>          .minikube\n",
      "02/12/2022  11:23 AM    <DIR>          .vscode\n",
      "10/04/2021  11:39 PM    <DIR>          3D Objects\n",
      "12/10/2021  12:18 PM    <DIR>          anaconda3\n",
      "02/06/2022  10:06 PM            51,867 car.data\n",
      "10/04/2021  11:39 PM    <DIR>          Contacts\n",
      "02/20/2022  08:13 AM    <DIR>          Desktop\n",
      "12/10/2021  12:17 PM    <DIR>          Documents\n",
      "02/12/2022  11:22 AM    <DIR>          Downloads\n",
      "10/04/2021  11:39 PM    <DIR>          Favorites\n",
      "02/05/2022  01:42 PM            10,053 glass.csv\n",
      "02/05/2022  02:08 PM            11,903 glass.data\n",
      "02/22/2022  01:01 PM             8,192 ineuron.db\n",
      "10/04/2021  11:39 PM    <DIR>          Links\n",
      "10/04/2021  11:39 PM    <DIR>          Music\n",
      "02/06/2022  11:13 PM           157,284 Mysql - home assignment 6th feb 2022.ipynb\n",
      "02/05/2022  02:18 PM            17,862 mysql.ipynb\n",
      "10/04/2021  11:43 PM    <DIR>          OneDrive\n",
      "10/04/2021  11:41 PM    <DIR>          Pictures\n",
      "01/22/2022  01:06 PM    <DIR>          PycharmProjects\n",
      "02/11/2022  03:17 PM             6,727 python_Programming_Assingment_9.ipynb\n",
      "10/04/2021  11:39 PM    <DIR>          Saved Games\n",
      "10/04/2021  11:41 PM    <DIR>          Searches\n",
      "02/22/2022  01:00 PM             6,605 SQLLITE.ipynb\n",
      "12/10/2021  01:07 PM               588 Untitled.ipynb\n",
      "12/11/2021  07:15 PM               588 Untitled1.ipynb\n",
      "12/18/2021  09:59 AM             1,075 Untitled2.ipynb\n",
      "12/14/2021  10:20 PM    <DIR>          Videos\n",
      "              12 File(s)        272,769 bytes\n",
      "              26 Dir(s)  25,850,482,688 bytes free\n"
     ]
    }
   ],
   "source": [
    "ls"
   ]
  },
  {
   "cell_type": "code",
   "execution_count": 12,
   "id": "93d6488f",
   "metadata": {},
   "outputs": [],
   "source": [
    "c = db.cursor()"
   ]
  },
  {
   "cell_type": "code",
   "execution_count": 13,
   "id": "bdefaefe",
   "metadata": {},
   "outputs": [
    {
     "data": {
      "text/plain": [
       "<sqlite3.Cursor at 0x1889060d1f0>"
      ]
     },
     "execution_count": 13,
     "metadata": {},
     "output_type": "execute_result"
    }
   ],
   "source": [
    "c.execute('create table fsds(name text, batchid int, marks real)')"
   ]
  },
  {
   "cell_type": "code",
   "execution_count": 15,
   "id": "19511d9b",
   "metadata": {},
   "outputs": [
    {
     "data": {
      "text/plain": [
       "<sqlite3.Cursor at 0x1889060d1f0>"
      ]
     },
     "execution_count": 15,
     "metadata": {},
     "output_type": "execute_result"
    }
   ],
   "source": [
    "c.execute('insert into fsds values (\"Elango\",23232, 3434.34)')"
   ]
  },
  {
   "cell_type": "code",
   "execution_count": 18,
   "id": "6a8e3d7c",
   "metadata": {},
   "outputs": [
    {
     "data": {
      "text/plain": [
       "<sqlite3.Cursor at 0x1889060d1f0>"
      ]
     },
     "execution_count": 18,
     "metadata": {},
     "output_type": "execute_result"
    }
   ],
   "source": [
    "c.execute('insert into fsds values (\"Elango\",23232, 3434.34)')\n",
    "c.execute('insert into fsds values (\"Elango\",23232, 3434.34)')\n",
    "c.execute('insert into fsds values (\"Elango\",23232, 3434.34)')\n",
    "c.execute('insert into fsds values (\"Elango\",23232, 3434.34)')\n",
    "c.execute('insert into fsds values (\"Elango\",23232, 3434.34)')"
   ]
  },
  {
   "cell_type": "code",
   "execution_count": 20,
   "id": "07670d41",
   "metadata": {},
   "outputs": [],
   "source": [
    "data = c.execute(\"select * from fsds\")"
   ]
  },
  {
   "cell_type": "code",
   "execution_count": 21,
   "id": "9867adcd",
   "metadata": {},
   "outputs": [
    {
     "name": "stdout",
     "output_type": "stream",
     "text": [
      "('Elango', 23232, 3434.34)\n",
      "('Elango', 23232, 3434.34)\n",
      "('Elango', 23232, 3434.34)\n",
      "('Elango', 23232, 3434.34)\n",
      "('Elango', 23232, 3434.34)\n",
      "('Elango', 23232, 3434.34)\n",
      "('Elango', 23232, 3434.34)\n",
      "('Elango', 23232, 3434.34)\n",
      "('Elango', 23232, 3434.34)\n",
      "('Elango', 23232, 3434.34)\n",
      "('Elango', 23232, 3434.34)\n",
      "('Elango', 23232, 3434.34)\n",
      "('Elango', 23232, 3434.34)\n",
      "('Elango', 23232, 3434.34)\n",
      "('Elango', 23232, 3434.34)\n",
      "('Elango', 23232, 3434.34)\n"
     ]
    }
   ],
   "source": [
    "for i in data:\n",
    "    print(i)"
   ]
  },
  {
   "cell_type": "code",
   "execution_count": 23,
   "id": "90578d87",
   "metadata": {},
   "outputs": [],
   "source": [
    "db.commit()"
   ]
  },
  {
   "cell_type": "code",
   "execution_count": 24,
   "id": "cfec86d4",
   "metadata": {},
   "outputs": [],
   "source": [
    "db.close()"
   ]
  },
  {
   "cell_type": "code",
   "execution_count": 26,
   "id": "b3db4012",
   "metadata": {},
   "outputs": [
    {
     "name": "stdout",
     "output_type": "stream",
     "text": [
      " Volume in drive C has no label.\n",
      " Volume Serial Number is 52C6-F392\n",
      "\n",
      " Directory of C:\\Users\\Admin\n",
      "\n",
      "02/22/2022  01:02 PM    <DIR>          .\n",
      "02/22/2022  01:02 PM    <DIR>          ..\n",
      "02/12/2022  08:20 AM    <DIR>          .astropy\n",
      "02/12/2022  08:21 AM    <DIR>          .conda\n",
      "12/10/2021  12:21 PM                25 .condarc\n",
      "12/10/2021  12:20 PM    <DIR>          .continuum\n",
      "02/22/2022  11:19 AM    <DIR>          .ipynb_checkpoints\n",
      "12/10/2021  01:06 PM    <DIR>          .ipython\n",
      "12/11/2021  07:11 PM    <DIR>          .jupyter\n",
      "01/22/2022  01:21 PM    <DIR>          .kivy\n",
      "02/12/2022  11:52 AM    <DIR>          .minikube\n",
      "02/12/2022  11:23 AM    <DIR>          .vscode\n",
      "10/04/2021  11:39 PM    <DIR>          3D Objects\n",
      "12/10/2021  12:18 PM    <DIR>          anaconda3\n",
      "02/06/2022  10:06 PM            51,867 car.data\n",
      "10/04/2021  11:39 PM    <DIR>          Contacts\n",
      "02/20/2022  08:13 AM    <DIR>          Desktop\n",
      "12/10/2021  12:17 PM    <DIR>          Documents\n",
      "02/12/2022  11:22 AM    <DIR>          Downloads\n",
      "10/04/2021  11:39 PM    <DIR>          Favorites\n",
      "02/05/2022  01:42 PM            10,053 glass.csv\n",
      "02/05/2022  02:08 PM            11,903 glass.data\n",
      "02/22/2022  01:01 PM             8,192 ineuron.db\n",
      "10/04/2021  11:39 PM    <DIR>          Links\n",
      "10/04/2021  11:39 PM    <DIR>          Music\n",
      "02/06/2022  11:13 PM           157,284 Mysql - home assignment 6th feb 2022.ipynb\n",
      "02/05/2022  02:18 PM            17,862 mysql.ipynb\n",
      "10/04/2021  11:43 PM    <DIR>          OneDrive\n",
      "10/04/2021  11:41 PM    <DIR>          Pictures\n",
      "01/22/2022  01:06 PM    <DIR>          PycharmProjects\n",
      "02/11/2022  03:17 PM             6,727 python_Programming_Assingment_9.ipynb\n",
      "10/04/2021  11:39 PM    <DIR>          Saved Games\n",
      "10/04/2021  11:41 PM    <DIR>          Searches\n",
      "02/22/2022  01:02 PM             6,845 SQLLITE.ipynb\n",
      "12/10/2021  01:07 PM               588 Untitled.ipynb\n",
      "12/11/2021  07:15 PM               588 Untitled1.ipynb\n",
      "12/18/2021  09:59 AM             1,075 Untitled2.ipynb\n",
      "12/14/2021  10:20 PM    <DIR>          Videos\n",
      "              12 File(s)        273,009 bytes\n",
      "              26 Dir(s)  25,850,437,632 bytes free\n"
     ]
    }
   ],
   "source": [
    "ls"
   ]
  },
  {
   "cell_type": "code",
   "execution_count": 27,
   "id": "1cab45ed",
   "metadata": {},
   "outputs": [],
   "source": [
    "db = sqlite3.connect(\"ineuron.db\")"
   ]
  },
  {
   "cell_type": "code",
   "execution_count": 28,
   "id": "d546ea47",
   "metadata": {},
   "outputs": [],
   "source": [
    "c = db.cursor()"
   ]
  },
  {
   "cell_type": "code",
   "execution_count": 29,
   "id": "ee0e88de",
   "metadata": {},
   "outputs": [],
   "source": [
    "data = c.execute(\"select * from fsds where marks> 100\")"
   ]
  },
  {
   "cell_type": "code",
   "execution_count": 32,
   "id": "88b18cef",
   "metadata": {},
   "outputs": [],
   "source": [
    "for i in data:\n",
    "    print(i)"
   ]
  },
  {
   "cell_type": "code",
   "execution_count": 31,
   "id": "fd111486",
   "metadata": {},
   "outputs": [
    {
     "ename": "TypeError",
     "evalue": "function missing required argument 'database' (pos 1)",
     "output_type": "error",
     "traceback": [
      "\u001b[1;31m---------------------------------------------------------------------------\u001b[0m",
      "\u001b[1;31mTypeError\u001b[0m                                 Traceback (most recent call last)",
      "\u001b[1;32m~\\AppData\\Local\\Temp/ipykernel_8856/4271907101.py\u001b[0m in \u001b[0;36m<module>\u001b[1;34m\u001b[0m\n\u001b[1;32m----> 1\u001b[1;33m \u001b[0mdb\u001b[0m \u001b[1;33m=\u001b[0m \u001b[0msqlite3\u001b[0m\u001b[1;33m.\u001b[0m\u001b[0mconnect\u001b[0m\u001b[1;33m(\u001b[0m\u001b[1;33m)\u001b[0m\u001b[1;33m\u001b[0m\u001b[1;33m\u001b[0m\u001b[0m\n\u001b[0m",
      "\u001b[1;31mTypeError\u001b[0m: function missing required argument 'database' (pos 1)"
     ]
    }
   ],
   "source": [
    "db = sqlite3.connect()"
   ]
  },
  {
   "cell_type": "code",
   "execution_count": 36,
   "id": "30ab70be",
   "metadata": {},
   "outputs": [],
   "source": [
    "db = sqlite3.connect('ineuron.db')"
   ]
  },
  {
   "cell_type": "code",
   "execution_count": 37,
   "id": "dea73572",
   "metadata": {},
   "outputs": [],
   "source": [
    "c = db.cursor()"
   ]
  },
  {
   "cell_type": "code",
   "execution_count": 41,
   "id": "5c76b105",
   "metadata": {},
   "outputs": [],
   "source": [
    "data = c.execute(\"select * from fsds limit 2\")"
   ]
  },
  {
   "cell_type": "code",
   "execution_count": 42,
   "id": "ad8ec7d8",
   "metadata": {},
   "outputs": [
    {
     "name": "stdout",
     "output_type": "stream",
     "text": [
      "('Elango', 23232, 3434.34)\n",
      "('Elango', 23232, 3434.34)\n"
     ]
    }
   ],
   "source": [
    "for i in data:\n",
    "    print(i)"
   ]
  },
  {
   "cell_type": "code",
   "execution_count": 43,
   "id": "9c8c897a",
   "metadata": {},
   "outputs": [],
   "source": [
    "db.close()"
   ]
  },
  {
   "cell_type": "code",
   "execution_count": 44,
   "id": "c817d7f5",
   "metadata": {},
   "outputs": [],
   "source": [
    "db = sqlite3.connect('jobdb.db')"
   ]
  },
  {
   "cell_type": "code",
   "execution_count": 45,
   "id": "969e2bd1",
   "metadata": {},
   "outputs": [],
   "source": [
    "c =  db.cursor()"
   ]
  },
  {
   "cell_type": "code",
   "execution_count": 46,
   "id": "d1a7a509",
   "metadata": {},
   "outputs": [
    {
     "data": {
      "text/plain": [
       "<sqlite3.Cursor at 0x18890616340>"
      ]
     },
     "execution_count": 46,
     "metadata": {},
     "output_type": "execute_result"
    }
   ],
   "source": [
    "c.execute('create table student (student_id int, student_name text, student_mailid text, marks int)')"
   ]
  },
  {
   "cell_type": "code",
   "execution_count": 49,
   "id": "c0f38a83",
   "metadata": {},
   "outputs": [
    {
     "data": {
      "text/plain": [
       "<sqlite3.Cursor at 0x18890616340>"
      ]
     },
     "execution_count": 49,
     "metadata": {},
     "output_type": "execute_result"
    }
   ],
   "source": [
    "c.execute('create table address(student_id int, pincode int, location text, nearby next , phone_no int)')"
   ]
  },
  {
   "cell_type": "code",
   "execution_count": 48,
   "id": "795e8192",
   "metadata": {},
   "outputs": [
    {
     "data": {
      "text/plain": [
       "<sqlite3.Cursor at 0x18890616340>"
      ]
     },
     "execution_count": 48,
     "metadata": {},
     "output_type": "execute_result"
    }
   ],
   "source": [
    "c.execute('drop table address')"
   ]
  },
  {
   "cell_type": "code",
   "execution_count": 51,
   "id": "9311a5dc",
   "metadata": {},
   "outputs": [
    {
     "data": {
      "text/plain": [
       "<sqlite3.Cursor at 0x18890616340>"
      ]
     },
     "execution_count": 51,
     "metadata": {},
     "output_type": "execute_result"
    }
   ],
   "source": [
    "c.execute('insert into student values(123, \"Elango\",\"elango@fdf.fd\",435)')\n",
    "c.execute('insert into student values(124, \"Elango\",\"elango@fdf.fd\",435)')\n",
    "c.execute('insert into student values(125, \"Elango\",\"elango@fdf.fd\",435)')\n",
    "c.execute('insert into student values(126, \"Elango\",\"elango@fdf.fd\",435)')\n",
    "c.execute('insert into student values(127, \"Elango\",\"elango@fdf.fd\",435)')\n",
    "c.execute('insert into student values(128, \"Elango\",\"elango@fdf.fd\",435)')\n",
    "c.execute('insert into student values(129, \"Elango\",\"elango@fdf.fd\",435)')\n",
    "c.execute('insert into student values(121, \"Elango\",\"elango@fdf.fd\",435)')\n",
    "c.execute('insert into student values(122, \"Elango\",\"elango@fdf.fd\",435)')\n",
    "c.execute('insert into student values(120, \"Elango\",\"elango@fdf.fd\",435)')"
   ]
  },
  {
   "cell_type": "code",
   "execution_count": 54,
   "id": "3b0a0ec7",
   "metadata": {},
   "outputs": [
    {
     "data": {
      "text/plain": [
       "<sqlite3.Cursor at 0x18890616340>"
      ]
     },
     "execution_count": 54,
     "metadata": {},
     "output_type": "execute_result"
    }
   ],
   "source": [
    "c.execute('insert into address values(124, 32323,\"ERERE RERER RERE\",\"FFDF 43\",2332323333)')\n",
    "c.execute('insert into address values(125,32323,\"ERERE RERER RERE\",\"FFDF 43\",2332323333)')\n",
    "c.execute('insert into address values(126, 32323,\"ERERE RERER RERE\",\"FFDF 43\",2332323333)')\n",
    "c.execute('insert into address values(127, 32323,\"ERERE RERER RERE\",\"FFDF 43\",2332323333)')\n",
    "c.execute('insert into address values(128, 32323,\"ERERE RERER RERE\",\"FFDF 43\",2332323333)')\n",
    "c.execute('insert into address values(129,32323,\"ERERE RERER RERE\",\"FFDF 43\",2332323333)')\n",
    "c.execute('insert into address values(121, 32323,\"ERERE RERER RERE\",\"FFDF 43\",2332323333)')\n",
    "c.execute('insert into address values(122, 32323,\"ERERE RERER RERE\",\"FFDF 43\",2332323333)')\n",
    "c.execute('insert into address values(120, 32323,\"ERERE RERER RERE\",\"FFDF 43\",2332323333)')\n",
    "c.execute('insert into address values(1292,32323,\"ERERE RERER RERE\",\"FFDF 43\",2332323333)')\n",
    "c.execute('insert into address values(1231, 32323,\"ERERE RERER RERE\",\"FFDF 43\",2332323333)')\n",
    "c.execute('insert into address values(1223, 32323,\"ERERE RERER RERE\",\"FFDF 43\",2332323333)')\n",
    "c.execute('insert into address values(1203, 32323,\"ERERE RERER RERE\",\"FFDF 43\",2332323333)')"
   ]
  },
  {
   "cell_type": "code",
   "execution_count": 59,
   "id": "7024f972",
   "metadata": {},
   "outputs": [],
   "source": [
    "data = c.execute(\"select * from student a  LEFT JOIN address b on a.student_id = b.student_id  where b.student_id is not null\")"
   ]
  },
  {
   "cell_type": "code",
   "execution_count": 60,
   "id": "4905add9",
   "metadata": {},
   "outputs": [
    {
     "name": "stdout",
     "output_type": "stream",
     "text": [
      "(124, '32323', 'ERERE RERER RERE', 2332323333, 124, 32323, 'ERERE RERER RERE', 'FFDF 43', 2332323333)\n",
      "(124, 'Elango', 'elango@fdf.fd', 435, 124, 32323, 'ERERE RERER RERE', 'FFDF 43', 2332323333)\n",
      "(125, 'Elango', 'elango@fdf.fd', 435, 125, 32323, 'ERERE RERER RERE', 'FFDF 43', 2332323333)\n",
      "(126, 'Elango', 'elango@fdf.fd', 435, 126, 32323, 'ERERE RERER RERE', 'FFDF 43', 2332323333)\n",
      "(127, 'Elango', 'elango@fdf.fd', 435, 127, 32323, 'ERERE RERER RERE', 'FFDF 43', 2332323333)\n",
      "(128, 'Elango', 'elango@fdf.fd', 435, 128, 32323, 'ERERE RERER RERE', 'FFDF 43', 2332323333)\n",
      "(129, 'Elango', 'elango@fdf.fd', 435, 129, 32323, 'ERERE RERER RERE', 'FFDF 43', 2332323333)\n",
      "(121, 'Elango', 'elango@fdf.fd', 435, 121, 32323, 'ERERE RERER RERE', 'FFDF 43', 2332323333)\n",
      "(122, 'Elango', 'elango@fdf.fd', 435, 122, 32323, 'ERERE RERER RERE', 'FFDF 43', 2332323333)\n",
      "(120, 'Elango', 'elango@fdf.fd', 435, 120, 32323, 'ERERE RERER RERE', 'FFDF 43', 2332323333)\n"
     ]
    }
   ],
   "source": [
    "for i in data:\n",
    "    print(i)"
   ]
  },
  {
   "cell_type": "code",
   "execution_count": 61,
   "id": "0de6da3a",
   "metadata": {},
   "outputs": [],
   "source": [
    "data = c.execute(\"select * from student\")"
   ]
  },
  {
   "cell_type": "code",
   "execution_count": 62,
   "id": "6cf8b293",
   "metadata": {},
   "outputs": [
    {
     "data": {
      "text/plain": [
       "[(123, 'Elango', 'elango@fdf.fd', 435),\n",
       " (123, 'Elango', 'elango@fdf.fd', 435),\n",
       " (123, 'Elango', 'elango@fdf.fd', 435),\n",
       " (123, 'Elango', 'elango@fdf.fd', 435),\n",
       " (123, 'Elango', 'elango@fdf.fd', 435),\n",
       " (123, 'Elango', 'elango@fdf.fd', 435),\n",
       " (123, 'Elango', 'elango@fdf.fd', 435),\n",
       " (123, 'Elango', 'elango@fdf.fd', 435),\n",
       " (123, 'Elango', 'elango@fdf.fd', 435),\n",
       " (123, 'Elango', 'elango@fdf.fd', 435),\n",
       " (123, 'Elango', 'elango@fdf.fd', 435),\n",
       " (124, 'Elango', 'elango@fdf.fd', 435),\n",
       " (125, 'Elango', 'elango@fdf.fd', 435),\n",
       " (126, 'Elango', 'elango@fdf.fd', 435),\n",
       " (127, 'Elango', 'elango@fdf.fd', 435),\n",
       " (128, 'Elango', 'elango@fdf.fd', 435),\n",
       " (129, 'Elango', 'elango@fdf.fd', 435),\n",
       " (121, 'Elango', 'elango@fdf.fd', 435),\n",
       " (122, 'Elango', 'elango@fdf.fd', 435),\n",
       " (120, 'Elango', 'elango@fdf.fd', 435),\n",
       " (124, '32323', 'ERERE RERER RERE', 2332323333)]"
      ]
     },
     "execution_count": 62,
     "metadata": {},
     "output_type": "execute_result"
    }
   ],
   "source": [
    "data.fetchall()"
   ]
  },
  {
   "cell_type": "code",
   "execution_count": 64,
   "id": "874019da",
   "metadata": {},
   "outputs": [
    {
     "data": {
      "text/plain": [
       "<sqlite3.Cursor at 0x18890616340>"
      ]
     },
     "execution_count": 64,
     "metadata": {},
     "output_type": "execute_result"
    }
   ],
   "source": [
    "c.execute(\"update  student set student_id =  2000 where student_id =123\")"
   ]
  },
  {
   "cell_type": "code",
   "execution_count": 68,
   "id": "c4b0c41b",
   "metadata": {},
   "outputs": [],
   "source": [
    "data = c.execute(\"select * from student\")"
   ]
  },
  {
   "cell_type": "code",
   "execution_count": 69,
   "id": "5e46e3ef",
   "metadata": {},
   "outputs": [
    {
     "data": {
      "text/plain": [
       "[(2000, 'Elango', 'elango@fdf.fd', 435),\n",
       " (2000, 'Elango', 'elango@fdf.fd', 435),\n",
       " (2000, 'Elango', 'elango@fdf.fd', 435),\n",
       " (2000, 'Elango', 'elango@fdf.fd', 435),\n",
       " (2000, 'Elango', 'elango@fdf.fd', 435),\n",
       " (2000, 'Elango', 'elango@fdf.fd', 435),\n",
       " (2000, 'Elango', 'elango@fdf.fd', 435),\n",
       " (2000, 'Elango', 'elango@fdf.fd', 435),\n",
       " (2000, 'Elango', 'elango@fdf.fd', 435),\n",
       " (2000, 'Elango', 'elango@fdf.fd', 435),\n",
       " (2000, 'Elango', 'elango@fdf.fd', 435),\n",
       " (124, 'Elango', 'elango@fdf.fd', 435),\n",
       " (125, 'Elango', 'elango@fdf.fd', 435),\n",
       " (126, 'Elango', 'elango@fdf.fd', 435),\n",
       " (127, 'Elango', 'elango@fdf.fd', 435),\n",
       " (128, 'Elango', 'elango@fdf.fd', 435),\n",
       " (129, 'Elango', 'elango@fdf.fd', 435),\n",
       " (121, 'Elango', 'elango@fdf.fd', 435),\n",
       " (122, 'Elango', 'elango@fdf.fd', 435),\n",
       " (120, 'Elango', 'elango@fdf.fd', 435),\n",
       " (124, '32323', 'ERERE RERER RERE', 2332323333)]"
      ]
     },
     "execution_count": 69,
     "metadata": {},
     "output_type": "execute_result"
    }
   ],
   "source": [
    "data.fetchall()"
   ]
  },
  {
   "cell_type": "code",
   "execution_count": 70,
   "id": "1f09b223",
   "metadata": {},
   "outputs": [],
   "source": [
    "db.close()"
   ]
  },
  {
   "cell_type": "code",
   "execution_count": 71,
   "id": "19b52351",
   "metadata": {},
   "outputs": [],
   "source": [
    "l = [1,2,3,4,5]"
   ]
  },
  {
   "cell_type": "code",
   "execution_count": 76,
   "id": "3df55633",
   "metadata": {},
   "outputs": [],
   "source": [
    "def test(a):\n",
    "    return a+5"
   ]
  },
  {
   "cell_type": "code",
   "execution_count": 72,
   "id": "5f29d184",
   "metadata": {},
   "outputs": [],
   "source": [
    "li = []\n",
    "for i in l:\n",
    "    li.append(i+5)"
   ]
  },
  {
   "cell_type": "code",
   "execution_count": 73,
   "id": "aab8590c",
   "metadata": {},
   "outputs": [
    {
     "data": {
      "text/plain": [
       "[6, 7, 8, 9, 10]"
      ]
     },
     "execution_count": 73,
     "metadata": {},
     "output_type": "execute_result"
    }
   ],
   "source": [
    "li"
   ]
  },
  {
   "cell_type": "code",
   "execution_count": 74,
   "id": "3ede98d3",
   "metadata": {},
   "outputs": [
    {
     "data": {
      "text/plain": [
       "[6, 7, 8, 9, 10]"
      ]
     },
     "execution_count": 74,
     "metadata": {},
     "output_type": "execute_result"
    }
   ],
   "source": [
    "[i+5 for i in l]"
   ]
  },
  {
   "cell_type": "code",
   "execution_count": 80,
   "id": "36cd087e",
   "metadata": {},
   "outputs": [
    {
     "data": {
      "text/plain": [
       "[6, 7, 8, 9, 10]"
      ]
     },
     "execution_count": 80,
     "metadata": {},
     "output_type": "execute_result"
    }
   ],
   "source": [
    "list(map(test, l))"
   ]
  },
  {
   "cell_type": "code",
   "execution_count": 81,
   "id": "7ad61a06",
   "metadata": {},
   "outputs": [],
   "source": [
    "l1= ['2323','3232','43434','5454545','545454']"
   ]
  },
  {
   "cell_type": "code",
   "execution_count": 82,
   "id": "4c855201",
   "metadata": {},
   "outputs": [],
   "source": [
    "def convint(a):\n",
    "    return  int(a)"
   ]
  },
  {
   "cell_type": "code",
   "execution_count": 83,
   "id": "de7568f2",
   "metadata": {},
   "outputs": [
    {
     "data": {
      "text/plain": [
       "[2323, 3232, 43434, 5454545, 545454]"
      ]
     },
     "execution_count": 83,
     "metadata": {},
     "output_type": "execute_result"
    }
   ],
   "source": [
    "list(map(convint,l1))     "
   ]
  },
  {
   "cell_type": "code",
   "execution_count": 84,
   "id": "080be5a4",
   "metadata": {},
   "outputs": [
    {
     "data": {
      "text/plain": [
       "[2323, 3232, 43434, 5454545, 545454]"
      ]
     },
     "execution_count": 84,
     "metadata": {},
     "output_type": "execute_result"
    }
   ],
   "source": [
    "list(map(lambda x :int(x), l1))"
   ]
  },
  {
   "cell_type": "code",
   "execution_count": 86,
   "id": "ba94a793",
   "metadata": {},
   "outputs": [
    {
     "data": {
      "text/plain": [
       "[6, 7, 8, 9, 10]"
      ]
     },
     "execution_count": 86,
     "metadata": {},
     "output_type": "execute_result"
    }
   ],
   "source": [
    "list(map(lambda x : int(x+5),l))"
   ]
  },
  {
   "cell_type": "code",
   "execution_count": 87,
   "id": "64d365e9",
   "metadata": {},
   "outputs": [],
   "source": [
    "l = [4,5,6,7,78,8,78]"
   ]
  },
  {
   "cell_type": "code",
   "execution_count": 89,
   "id": "21e2b6c5",
   "metadata": {},
   "outputs": [],
   "source": [
    "def evnno(a):\n",
    "    if a%2 == 0:\n",
    "        return  a"
   ]
  },
  {
   "cell_type": "code",
   "execution_count": 90,
   "id": "62cc7db4",
   "metadata": {},
   "outputs": [
    {
     "data": {
      "text/plain": [
       "[4, None, 6, None, 78, 8, 78]"
      ]
     },
     "execution_count": 90,
     "metadata": {},
     "output_type": "execute_result"
    }
   ],
   "source": [
    "list(map(evnno,l))"
   ]
  },
  {
   "cell_type": "code",
   "execution_count": 91,
   "id": "7e359cf7",
   "metadata": {},
   "outputs": [
    {
     "data": {
      "text/plain": [
       "[4, 6, 78, 8, 78]"
      ]
     },
     "execution_count": 91,
     "metadata": {},
     "output_type": "execute_result"
    }
   ],
   "source": [
    "[i for i in l if i%2 == 0 ]"
   ]
  },
  {
   "cell_type": "code",
   "execution_count": 93,
   "id": "50273ab1",
   "metadata": {},
   "outputs": [
    {
     "data": {
      "text/plain": [
       "[4, 6, 78, 8, 78]"
      ]
     },
     "execution_count": 93,
     "metadata": {},
     "output_type": "execute_result"
    }
   ],
   "source": [
    "list(filter(evnno , l))"
   ]
  },
  {
   "cell_type": "code",
   "execution_count": 95,
   "id": "2d515f3a",
   "metadata": {},
   "outputs": [
    {
     "data": {
      "text/plain": [
       "[4, None, 6, None, 78, 8, 78]"
      ]
     },
     "execution_count": 95,
     "metadata": {},
     "output_type": "execute_result"
    }
   ],
   "source": [
    "list(map(evnno , l))"
   ]
  },
  {
   "cell_type": "code",
   "execution_count": 96,
   "id": "f2900246",
   "metadata": {},
   "outputs": [
    {
     "data": {
      "text/plain": [
       "[4, 6, 78, 8, 78]"
      ]
     },
     "execution_count": 96,
     "metadata": {},
     "output_type": "execute_result"
    }
   ],
   "source": [
    "list(filter(lambda x : x%2 == 0 , l))"
   ]
  },
  {
   "cell_type": "code",
   "execution_count": 97,
   "id": "2fb8d9aa",
   "metadata": {},
   "outputs": [
    {
     "data": {
      "text/plain": [
       "[True, False, True, False, True, True, True]"
      ]
     },
     "execution_count": 97,
     "metadata": {},
     "output_type": "execute_result"
    }
   ],
   "source": [
    "list(map(lambda x : x%2 == 0 , l))"
   ]
  },
  {
   "cell_type": "code",
   "execution_count": 98,
   "id": "96e0e2c1",
   "metadata": {},
   "outputs": [
    {
     "data": {
      "text/plain": [
       "[4, 5, 6, 7, 78, 8, 78]"
      ]
     },
     "execution_count": 98,
     "metadata": {},
     "output_type": "execute_result"
    }
   ],
   "source": [
    "list(filter(lambda x : x+5 , l))"
   ]
  },
  {
   "cell_type": "code",
   "execution_count": 99,
   "id": "dfa5813d",
   "metadata": {},
   "outputs": [
    {
     "data": {
      "text/plain": [
       "[6, 78, 78]"
      ]
     },
     "execution_count": 99,
     "metadata": {},
     "output_type": "execute_result"
    }
   ],
   "source": [
    "list(filter(lambda x : x%3 == 0 , l))"
   ]
  },
  {
   "cell_type": "code",
   "execution_count": 100,
   "id": "109d4100",
   "metadata": {},
   "outputs": [],
   "source": [
    "from functools import reduce"
   ]
  },
  {
   "cell_type": "code",
   "execution_count": 101,
   "id": "7268cca8",
   "metadata": {},
   "outputs": [],
   "source": [
    "i = [3,4,5,6,7,8,8]"
   ]
  },
  {
   "cell_type": "code",
   "execution_count": 102,
   "id": "11eeaa29",
   "metadata": {},
   "outputs": [
    {
     "data": {
      "text/plain": [
       "41"
      ]
     },
     "execution_count": 102,
     "metadata": {},
     "output_type": "execute_result"
    }
   ],
   "source": [
    "sum(i)"
   ]
  },
  {
   "cell_type": "code",
   "execution_count": 103,
   "id": "6886a5da",
   "metadata": {},
   "outputs": [],
   "source": [
    "def test5(a,b):\n",
    "    return a+b"
   ]
  },
  {
   "cell_type": "code",
   "execution_count": 105,
   "id": "9c424cff",
   "metadata": {},
   "outputs": [
    {
     "data": {
      "text/plain": [
       "41"
      ]
     },
     "execution_count": 105,
     "metadata": {},
     "output_type": "execute_result"
    }
   ],
   "source": [
    "reduce(test5, i)"
   ]
  },
  {
   "cell_type": "code",
   "execution_count": 108,
   "id": "865ca472",
   "metadata": {},
   "outputs": [],
   "source": [
    "def test6(a,b,c):\n",
    "    return a+b+c"
   ]
  },
  {
   "cell_type": "code",
   "execution_count": 109,
   "id": "7123364d",
   "metadata": {},
   "outputs": [
    {
     "ename": "TypeError",
     "evalue": "test6() missing 1 required positional argument: 'c'",
     "output_type": "error",
     "traceback": [
      "\u001b[1;31m---------------------------------------------------------------------------\u001b[0m",
      "\u001b[1;31mTypeError\u001b[0m                                 Traceback (most recent call last)",
      "\u001b[1;32m~\\AppData\\Local\\Temp/ipykernel_8856/1230940889.py\u001b[0m in \u001b[0;36m<module>\u001b[1;34m\u001b[0m\n\u001b[1;32m----> 1\u001b[1;33m \u001b[0mreduce\u001b[0m\u001b[1;33m(\u001b[0m\u001b[0mtest6\u001b[0m\u001b[1;33m,\u001b[0m \u001b[0mi\u001b[0m\u001b[1;33m)\u001b[0m\u001b[1;33m\u001b[0m\u001b[1;33m\u001b[0m\u001b[0m\n\u001b[0m",
      "\u001b[1;31mTypeError\u001b[0m: test6() missing 1 required positional argument: 'c'"
     ]
    }
   ],
   "source": [
    "reduce(test6, i)"
   ]
  },
  {
   "cell_type": "code",
   "execution_count": 116,
   "id": "a3d86b97",
   "metadata": {},
   "outputs": [
    {
     "data": {
      "text/plain": [
       "0"
      ]
     },
     "execution_count": 116,
     "metadata": {},
     "output_type": "execute_result"
    }
   ],
   "source": [
    "reduce(test7, [3,0])"
   ]
  },
  {
   "cell_type": "code",
   "execution_count": 113,
   "id": "271bf6ad",
   "metadata": {},
   "outputs": [],
   "source": [
    "def test7(a,b):\n",
    "    return a*b"
   ]
  },
  {
   "cell_type": "code",
   "execution_count": 118,
   "id": "fb303621",
   "metadata": {},
   "outputs": [
    {
     "data": {
      "text/plain": [
       "5.580357142857143e-05"
      ]
     },
     "execution_count": 118,
     "metadata": {},
     "output_type": "execute_result"
    }
   ],
   "source": [
    "reduce (lambda x,y: x/y,i)"
   ]
  },
  {
   "cell_type": "code",
   "execution_count": 121,
   "id": "4167ed50",
   "metadata": {},
   "outputs": [],
   "source": [
    "l = [1,2,3,4,5]\n",
    "l1 = [21,32,43,44,54]"
   ]
  },
  {
   "cell_type": "code",
   "execution_count": 122,
   "id": "b8bf9ae7",
   "metadata": {},
   "outputs": [
    {
     "data": {
      "text/plain": [
       "[(1, 21), (2, 32), (3, 43), (4, 44), (5, 54)]"
      ]
     },
     "execution_count": 122,
     "metadata": {},
     "output_type": "execute_result"
    }
   ],
   "source": [
    "list(zip(l,l1))"
   ]
  },
  {
   "cell_type": "code",
   "execution_count": null,
   "id": "59054bff",
   "metadata": {},
   "outputs": [],
   "source": []
  }
 ],
 "metadata": {
  "kernelspec": {
   "display_name": "Python 3 (ipykernel)",
   "language": "python",
   "name": "python3"
  },
  "language_info": {
   "codemirror_mode": {
    "name": "ipython",
    "version": 3
   },
   "file_extension": ".py",
   "mimetype": "text/x-python",
   "name": "python",
   "nbconvert_exporter": "python",
   "pygments_lexer": "ipython3",
   "version": "3.9.7"
  }
 },
 "nbformat": 4,
 "nbformat_minor": 5
}
